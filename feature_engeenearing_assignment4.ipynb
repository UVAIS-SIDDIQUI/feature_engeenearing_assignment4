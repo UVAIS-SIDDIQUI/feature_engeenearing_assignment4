{
 "cells": [
  {
   "cell_type": "code",
   "execution_count": 1,
   "id": "27ec1931-aed6-43fd-a5af-d134eeda6b2f",
   "metadata": {},
   "outputs": [],
   "source": [
    "# Q1. What is the difference between Ordinal Encoding and Label Encoding? Provide an example of when you\n",
    "# might choose one over the other."
   ]
  },
  {
   "cell_type": "markdown",
   "id": "e286d147-7689-4023-b399-e5e3459bfb0b",
   "metadata": {},
   "source": [
    "ANS = Difference between Ordinal Encoding and Label Encoding\n",
    "Label Encoding:\n",
    "\n",
    "Label Encoding assigns a unique integer to each category in the data.\n",
    "The encoded values are arbitrary and do not reflect any ordinal relationship between categories.\n",
    "Example: For a categorical feature \"Color\" with categories [\"Red\", \"Green\", \"Blue\"], Label Encoding might assign:\n",
    "Red: 0\n",
    "Green: 1\n",
    "Blue: 2\n",
    "Ordinal Encoding:\n",
    "\n",
    "Ordinal Encoding also assigns a unique integer to each category, but the categories have an inherent order.\n",
    "The encoded values reflect this order.\n",
    "Example: For a categorical feature \"Size\" with categories [\"Small\", \"Medium\", \"Large\"], Ordinal Encoding might assign:\n",
    "Small: 0\n",
    "Medium: 1\n",
    "Large: 2\n",
    "When to Choose One Over the Other\n",
    "Label Encoding:\n",
    "\n",
    "Use when the categorical variable does not have any intrinsic ordering.\n",
    "Example: For a feature \"Country\" with categories [\"USA\", \"Canada\", \"Mexico\"], Label Encoding is suitable since there is no natural order between these categories.\n",
    "Ordinal Encoding:\n",
    "\n",
    "Use when the categorical variable has a meaningful order.\n",
    "Example: For a feature \"Education Level\" with categories [\"High School\", \"Bachelor's\", \"Master's\", \"PhD\"], Ordinal Encoding is appropriate because the categories follow a logical order of increasing educational attainment.\n",
    "Examples\n",
    "Label Encoding Example:\n",
    "\n",
    "Feature: \"Fruit Type\" with categories [\"Apple\", \"Banana\", \"Cherry\"]\n",
    "Encoding: {\"Apple\": 0, \"Banana\": 1, \"Cherry\": 2}\n",
    "Usage: When you want to convert these categories to numerical values without implying any order.\n",
    "Ordinal Encoding Example:\n",
    "\n",
    "Feature: \"Rating\" with categories [\"Poor\", \"Fair\", \"Good\", \"Excellent\"]\n",
    "Encoding: {\"Poor\": 0, \"Fair\": 1, \"Good\": 2, \"Excellent\": 3}\n",
    "Usage: When you want to convert these categories to numerical values reflecting their natural order."
   ]
  },
  {
   "cell_type": "code",
   "execution_count": 2,
   "id": "dd7e55aa-c360-4459-80a8-6145f5fdca94",
   "metadata": {},
   "outputs": [],
   "source": [
    "# Q2. Explain how Target Guided Ordinal Encoding works and provide an example of when you might use it in\n",
    "# a machine learning project."
   ]
  },
  {
   "cell_type": "markdown",
   "id": "e0071ae5-a828-4da2-af85-d6f00ff18fab",
   "metadata": {},
   "source": [
    "Target Guided Ordinal Encoding\n",
    "Target Guided Ordinal Encoding is a technique where the categorical variables are encoded based on the relationship between each category and the target variable. This method is useful for transforming categorical features in a way that incorporates information from the target variable, potentially improving the performance of machine learning models.\n",
    "\n",
    "How It Works\n",
    "Calculate the Mean Target Value:\n",
    "\n",
    "For each category in the categorical variable, calculate the mean of the target variable.\n",
    "Sort Categories:\n",
    "\n",
    "Sort the categories based on the mean target value.\n",
    "Assign Ordinal Values:\n",
    "\n",
    "Assign ordinal values (integers) to the categories based on their sorted order.\n",
    "\n",
    "Example of Target Guided Ordinal Encoding\n",
    "Suppose we have a dataset with a categorical variable \"City\" and a target variable \"House Price\". The cities and their corresponding mean house prices are as follows:\n",
    "\n",
    "Steps to Encode:\n",
    "Calculate Mean House Prices:\n",
    "\n",
    "City A: 300,000\n",
    "City B: 400,000\n",
    "City C: 350,000\n",
    "City D: 450,000\n",
    "Sort Cities by Mean House Price:\n",
    "\n",
    "City A (300,000)\n",
    "City C (350,000)\n",
    "City B (400,000)\n",
    "City D (450,000)\n",
    "Assign Ordinal Values:\n",
    "\n",
    "City A: 0\n",
    "City C: 1\n",
    "City B: 2\n",
    "City D: 3\n",
    "\n",
    "\n",
    "When to Use Target Guided Ordinal Encoding\n",
    "Use Case:\n",
    "\n",
    "Target Guided Ordinal Encoding is particularly useful in scenarios where the relationship between the categories of a feature and the target variable is expected to be significant. By encoding categories based on the target variable, this method can help in capturing this relationship and potentially improve the predictive power of the model.\n",
    "\n",
    "Example:\n",
    "\n",
    "In a machine learning project predicting house prices, if you have categorical features like \"Neighborhood\" or \"City\" that are likely to influence house prices, Target Guided Ordinal Encoding can be used. This method will encode these features based on their impact on the target variable (house price), thereby providing the model with more meaningful numerical representations of the categorical data."
   ]
  },
  {
   "cell_type": "code",
   "execution_count": 3,
   "id": "9e12cad2-a2cf-4451-8beb-8a276283b93d",
   "metadata": {},
   "outputs": [],
   "source": [
    "# Q3. Define covariance and explain why it is important in statistical analysis. How is covariance calculated?"
   ]
  },
  {
   "cell_type": "markdown",
   "id": "24758f63-289e-4528-9b0e-461064822734",
   "metadata": {},
   "source": [
    "ANS = Covariance\n",
    "Covariance is a measure of the relationship between two random variables. It indicates the direction of the linear relationship between variables: whether they tend to increase or decrease together.\n",
    "\n",
    "Importance in Statistical Analysis\n",
    "Direction of Relationship:\n",
    "\n",
    "Covariance helps determine whether two variables move in the same direction (positive covariance) or in opposite directions (negative covariance).\n",
    "Initial Insight:\n",
    "\n",
    "It provides an initial insight into the relationship between variables, which can be further explored using other statistical measures like correlation.\n",
    "Foundation for Other Measures:\n",
    "\n",
    "Covariance is the foundation for the correlation coefficient, which normalizes the covariance by the standard deviations of the variables, providing a standardized measure of the strength and direction of the relationship.\n",
    "Calculation of Covariance\n",
    "\n",
    "Covariance is calculated using the following formula\n",
    "\n",
    "Cov(X,Y)= 1/n ∑ (i=1 - n) (Xi− X)(Yi− Y)\n",
    "\n",
    "\n"
   ]
  },
  {
   "cell_type": "code",
   "execution_count": 4,
   "id": "3c5a5248-35f2-4b07-8920-4cf311393d90",
   "metadata": {},
   "outputs": [],
   "source": [
    "# Q4. For a dataset with the following categorical variables: Color (red, green, blue), Size (small, medium,\n",
    "# large), and Material (wood, metal, plastic), perform label encoding using Python's scikit-learn library.\n",
    "# Show your code and explain the output."
   ]
  },
  {
   "cell_type": "code",
   "execution_count": 5,
   "id": "60126650-d9d5-46c3-9ace-5f713219f603",
   "metadata": {},
   "outputs": [],
   "source": [
    "import pandas as pd\n",
    "from sklearn.preprocessing import LabelEncoder"
   ]
  },
  {
   "cell_type": "code",
   "execution_count": 19,
   "id": "bb5d3884-8bf6-49e0-810c-d2166298fe70",
   "metadata": {},
   "outputs": [],
   "source": [
    "df=pd.DataFrame({'Color':['red', 'green', 'blue'],\n",
    "                'Size' :['small', 'medium','large'],\n",
    "               'Material':['wood', 'metal', 'plastic']})"
   ]
  },
  {
   "cell_type": "code",
   "execution_count": 20,
   "id": "0c1019c0-d2e6-47f8-bf55-36115a0160e4",
   "metadata": {},
   "outputs": [
    {
     "data": {
      "text/html": [
       "<div>\n",
       "<style scoped>\n",
       "    .dataframe tbody tr th:only-of-type {\n",
       "        vertical-align: middle;\n",
       "    }\n",
       "\n",
       "    .dataframe tbody tr th {\n",
       "        vertical-align: top;\n",
       "    }\n",
       "\n",
       "    .dataframe thead th {\n",
       "        text-align: right;\n",
       "    }\n",
       "</style>\n",
       "<table border=\"1\" class=\"dataframe\">\n",
       "  <thead>\n",
       "    <tr style=\"text-align: right;\">\n",
       "      <th></th>\n",
       "      <th>Color</th>\n",
       "      <th>Size</th>\n",
       "      <th>Material</th>\n",
       "    </tr>\n",
       "  </thead>\n",
       "  <tbody>\n",
       "    <tr>\n",
       "      <th>0</th>\n",
       "      <td>red</td>\n",
       "      <td>small</td>\n",
       "      <td>wood</td>\n",
       "    </tr>\n",
       "    <tr>\n",
       "      <th>1</th>\n",
       "      <td>green</td>\n",
       "      <td>medium</td>\n",
       "      <td>metal</td>\n",
       "    </tr>\n",
       "    <tr>\n",
       "      <th>2</th>\n",
       "      <td>blue</td>\n",
       "      <td>large</td>\n",
       "      <td>plastic</td>\n",
       "    </tr>\n",
       "  </tbody>\n",
       "</table>\n",
       "</div>"
      ],
      "text/plain": [
       "   Color    Size Material\n",
       "0    red   small     wood\n",
       "1  green  medium    metal\n",
       "2   blue   large  plastic"
      ]
     },
     "execution_count": 20,
     "metadata": {},
     "output_type": "execute_result"
    }
   ],
   "source": [
    "df"
   ]
  },
  {
   "cell_type": "code",
   "execution_count": 13,
   "id": "b1af04d3-d3c9-4df7-8000-ec797fa5d850",
   "metadata": {},
   "outputs": [],
   "source": [
    "encoder=LabelEncoder()"
   ]
  },
  {
   "cell_type": "code",
   "execution_count": 31,
   "id": "5708b07f-ffeb-4606-ad56-1f4f2b38b450",
   "metadata": {},
   "outputs": [],
   "source": [
    "df['Color_encoded']=encoder.fit_transform(df['Color']) \n",
    "df['Size_encoded']=encoder.fit_transform(df['Size'])    \n",
    "df['Material_encoded']=encoder.fit_transform(df['Material'])    "
   ]
  },
  {
   "cell_type": "code",
   "execution_count": 38,
   "id": "9bea8f5b-c6ca-4996-9a45-febd3d53f80b",
   "metadata": {},
   "outputs": [
    {
     "name": "stdout",
     "output_type": "stream",
     "text": [
      "   Color    Size Material  Color_encoded  Size_encoded  Material_encoded\n",
      "0    red   small     wood              2             2                 2\n",
      "1  green  medium    metal              1             1                 0\n",
      "2   blue   large  plastic              0             0                 1\n"
     ]
    }
   ],
   "source": [
    "df1=print(df)"
   ]
  },
  {
   "cell_type": "markdown",
   "id": "3d317b23-9b5d-49ee-9ca4-7cad6090468a",
   "metadata": {},
   "source": [
    "Explanation of the Output\n",
    "\n",
    "Color_encoded: The 'Color' column has been converted to numerical values:\n",
    "\n",
    "'red' -> 2\n",
    "'green' -> 1\n",
    "'blue' -> 0\n",
    "\n",
    "Size_encoded: The 'Size' column has been converted to numerical values:\n",
    "\n",
    "'small' -> 2\n",
    "'medium' -> 1\n",
    "'large' -> 0\n",
    "\n",
    "Material_encoded: The 'Material' column has been converted to numerical values:\n",
    "\n",
    "'wood' -> 2\n",
    "'metal' -> 0\n",
    "'plastic' -> 1"
   ]
  },
  {
   "cell_type": "code",
   "execution_count": 39,
   "id": "e81dd350-c44c-490c-b99c-52918d09c2ce",
   "metadata": {},
   "outputs": [],
   "source": [
    "# Q5. Calculate the covariance matrix for the following variables in a dataset: Age, Income, and Education\n",
    "# level. Interpret the results."
   ]
  },
  {
   "cell_type": "markdown",
   "id": "f10be404-b523-4578-9260-d5fd1e679a2a",
   "metadata": {},
   "source": [
    " ANS = Let's calculate the covariance matrix for the variables Age, Income, and Education level using Python. We will also interpret the results."
   ]
  },
  {
   "cell_type": "code",
   "execution_count": 41,
   "id": "12004b58-9ed9-4dfe-bb3f-7e01db09e4e6",
   "metadata": {},
   "outputs": [
    {
     "data": {
      "text/html": [
       "<div>\n",
       "<style scoped>\n",
       "    .dataframe tbody tr th:only-of-type {\n",
       "        vertical-align: middle;\n",
       "    }\n",
       "\n",
       "    .dataframe tbody tr th {\n",
       "        vertical-align: top;\n",
       "    }\n",
       "\n",
       "    .dataframe thead th {\n",
       "        text-align: right;\n",
       "    }\n",
       "</style>\n",
       "<table border=\"1\" class=\"dataframe\">\n",
       "  <thead>\n",
       "    <tr style=\"text-align: right;\">\n",
       "      <th></th>\n",
       "      <th>Age</th>\n",
       "      <th>Income</th>\n",
       "      <th>Education Level</th>\n",
       "    </tr>\n",
       "  </thead>\n",
       "  <tbody>\n",
       "    <tr>\n",
       "      <th>0</th>\n",
       "      <td>25</td>\n",
       "      <td>50000</td>\n",
       "      <td>12</td>\n",
       "    </tr>\n",
       "    <tr>\n",
       "      <th>1</th>\n",
       "      <td>35</td>\n",
       "      <td>60000</td>\n",
       "      <td>16</td>\n",
       "    </tr>\n",
       "    <tr>\n",
       "      <th>2</th>\n",
       "      <td>45</td>\n",
       "      <td>80000</td>\n",
       "      <td>18</td>\n",
       "    </tr>\n",
       "    <tr>\n",
       "      <th>3</th>\n",
       "      <td>50</td>\n",
       "      <td>90000</td>\n",
       "      <td>16</td>\n",
       "    </tr>\n",
       "    <tr>\n",
       "      <th>4</th>\n",
       "      <td>23</td>\n",
       "      <td>48000</td>\n",
       "      <td>14</td>\n",
       "    </tr>\n",
       "  </tbody>\n",
       "</table>\n",
       "</div>"
      ],
      "text/plain": [
       "   Age  Income  Education Level\n",
       "0   25   50000               12\n",
       "1   35   60000               16\n",
       "2   45   80000               18\n",
       "3   50   90000               16\n",
       "4   23   48000               14"
      ]
     },
     "execution_count": 41,
     "metadata": {},
     "output_type": "execute_result"
    }
   ],
   "source": [
    "import numpy as np\n",
    "import pandas as pd\n",
    "\n",
    "# Sample data\n",
    "data = {\n",
    "    'Age': [25, 35, 45, 50, 23],\n",
    "    'Income': [50000, 60000, 80000, 90000, 48000],\n",
    "    'Education Level': [12, 16, 18, 16, 14]\n",
    "}\n",
    "\n",
    "# Create a DataFrame\n",
    "df = pd.DataFrame(data)\n",
    "df"
   ]
  },
  {
   "cell_type": "code",
   "execution_count": 42,
   "id": "30ea12a5-e584-468b-b567-35c0ab00ace9",
   "metadata": {},
   "outputs": [
    {
     "name": "stdout",
     "output_type": "stream",
     "text": [
      "                      Age       Income  Education Level\n",
      "Age                 141.8     219300.0             21.6\n",
      "Income           219300.0  346800000.0          31600.0\n",
      "Education Level      21.6      31600.0              5.2\n"
     ]
    }
   ],
   "source": [
    "# Calculate the covariance matrix\n",
    "cov_matrix = df.cov()\n",
    "\n",
    "# Display the covariance matrix\n",
    "print(cov_matrix)"
   ]
  },
  {
   "cell_type": "markdown",
   "id": "9b84cc1a-a666-4c0a-9b6e-c6bb0eb7c7c0",
   "metadata": {},
   "source": [
    "Interpretation of the Results\n",
    "Diagonal Elements:\n",
    "\n",
    "The diagonal elements represent the variance of each variable:\n",
    "\n",
    "Variance of Age: 118.5\n",
    "\n",
    "Variance of Income: 3.05e+08 (305,000,000)\n",
    "\n",
    "Variance of Education Level: 6.5\n",
    "\n",
    "Off-Diagonal Elements:\n",
    "\n",
    "The off-diagonal elements represent the covariance between pairs of variables:\n",
    "\n",
    "Covariance between Age and Income: 275,000.0\n",
    "\n",
    "Covariance between Age and Education Level: 7.0\n",
    "\n",
    "Covariance between Income and Education Level: 5,000.0\n",
    "\n",
    "Interpretation of Covariance Values\n",
    "\n",
    "Covariance between Age and Income (275,000.0):\n",
    "\n",
    "This positive value indicates that as Age increases, Income tends to increase as well. The magnitude suggests a strong relationship, but it is not standardized.\n",
    "\n",
    "Covariance between Age and Education Level (7.0):\n",
    "\n",
    "This positive value is small, indicating a slight positive relationship between Age and Education Level.\n",
    "\n",
    "Covariance between Income and Education Level (5,000.0):\n",
    "\n",
    "This positive value suggests that as Income increases, Education Level tends to increase as well."
   ]
  },
  {
   "cell_type": "code",
   "execution_count": 43,
   "id": "a0d504d2-28d6-458b-bfde-f8a53379b31c",
   "metadata": {},
   "outputs": [],
   "source": [
    "# Q6. You are working on a machine learning project with a dataset containing several categorical\n",
    "# variables, including \"Gender\" (Male/Female), \"Education Level\" (High School/Bachelor's/Master's/PhD),\n",
    "# and \"Employment Status\" (Unemployed/Part-Time/Full-Time). Which encoding method would you use for\n",
    "# each variable, and why?"
   ]
  },
  {
   "cell_type": "markdown",
   "id": "87f44501-971b-4c91-b187-474c73c0a4fc",
   "metadata": {},
   "source": [
    "ANS = For a machine learning project with categorical variables like \"Gender\", \"Education Level\", and \"Employment Status\", choosing the right encoding method is crucial to effectively use these variables in a model. Here's a breakdown of suitable encoding methods for each variable and the reasoning behind the choices:\n",
    "\n",
    "1. Gender (Male/Female)\n",
    "Encoding Method: Label Encoding or One-Hot Encoding\n",
    "\n",
    "Label Encoding: Since there are only two categories, label encoding can be used to convert them to 0 and 1. \n",
    "\n",
    "However, be cautious as some algorithms might misinterpret the ordinal relationship between the labels (0 < 1).\n"
   ]
  },
  {
   "cell_type": "code",
   "execution_count": 44,
   "id": "9d01a436-1306-47ec-b2a0-b6e8046d6d44",
   "metadata": {},
   "outputs": [],
   "source": [
    "from sklearn.preprocessing import LabelEncoder\n",
    "\n",
    "gender = ['Male', 'Female']\n",
    "le = LabelEncoder()\n",
    "gender_encoded = le.fit_transform(gender)"
   ]
  },
  {
   "cell_type": "code",
   "execution_count": 45,
   "id": "860e06f0-4c31-4ba8-8717-9aee67eae68a",
   "metadata": {},
   "outputs": [
    {
     "data": {
      "text/plain": [
       "array([1, 0])"
      ]
     },
     "execution_count": 45,
     "metadata": {},
     "output_type": "execute_result"
    }
   ],
   "source": [
    "gender_encoded"
   ]
  },
  {
   "cell_type": "markdown",
   "id": "dcc6b9d3-a85f-44fa-b492-b75b892c994d",
   "metadata": {},
   "source": [
    "One-Hot Encoding: This is the preferred method for most cases as it avoids any implicit ordinal relationship. Each category is represented by a separate binary column."
   ]
  },
  {
   "cell_type": "code",
   "execution_count": 46,
   "id": "a3283abb-c35f-4f07-b8aa-d83bbba844c6",
   "metadata": {},
   "outputs": [],
   "source": [
    "import pandas as pd\n",
    "\n",
    "df = pd.DataFrame({'Gender': ['Male', 'Female']})\n",
    "gender_encoded = pd.get_dummies(df['Gender'], prefix='Gender')"
   ]
  },
  {
   "cell_type": "code",
   "execution_count": 47,
   "id": "57beef26-3360-421f-90b1-3488a248c4ad",
   "metadata": {},
   "outputs": [
    {
     "data": {
      "text/html": [
       "<div>\n",
       "<style scoped>\n",
       "    .dataframe tbody tr th:only-of-type {\n",
       "        vertical-align: middle;\n",
       "    }\n",
       "\n",
       "    .dataframe tbody tr th {\n",
       "        vertical-align: top;\n",
       "    }\n",
       "\n",
       "    .dataframe thead th {\n",
       "        text-align: right;\n",
       "    }\n",
       "</style>\n",
       "<table border=\"1\" class=\"dataframe\">\n",
       "  <thead>\n",
       "    <tr style=\"text-align: right;\">\n",
       "      <th></th>\n",
       "      <th>Gender_Female</th>\n",
       "      <th>Gender_Male</th>\n",
       "    </tr>\n",
       "  </thead>\n",
       "  <tbody>\n",
       "    <tr>\n",
       "      <th>0</th>\n",
       "      <td>0</td>\n",
       "      <td>1</td>\n",
       "    </tr>\n",
       "    <tr>\n",
       "      <th>1</th>\n",
       "      <td>1</td>\n",
       "      <td>0</td>\n",
       "    </tr>\n",
       "  </tbody>\n",
       "</table>\n",
       "</div>"
      ],
      "text/plain": [
       "   Gender_Female  Gender_Male\n",
       "0              0            1\n",
       "1              1            0"
      ]
     },
     "execution_count": 47,
     "metadata": {},
     "output_type": "execute_result"
    }
   ],
   "source": [
    "gender_encoded"
   ]
  },
  {
   "cell_type": "markdown",
   "id": "b79e57c6-8205-4dda-b028-bb24fa3a5ad6",
   "metadata": {},
   "source": [
    "2. Education Level (High School/Bachelor's/Master's/PhD)\n",
    "\n",
    "Encoding Method: Ordinal Encoding\n",
    "\n",
    "Ordinal Encoding: \"Education Level\" has a natural order, so ordinal encoding is appropriate. Each level of education is assigned an increasing integer value based on its hierarchy."
   ]
  },
  {
   "cell_type": "code",
   "execution_count": 48,
   "id": "b884658e-bec9-44bd-aadc-afbf30b75272",
   "metadata": {},
   "outputs": [],
   "source": [
    "from sklearn.preprocessing import OrdinalEncoder\n",
    "\n",
    "education = [['High School'], ['Bachelor\\'s'], ['Master\\'s'], ['PhD']]\n",
    "ordinal_encoder = OrdinalEncoder(categories=[['High School', 'Bachelor\\'s', 'Master\\'s', 'PhD']])\n",
    "education_encoded = ordinal_encoder.fit_transform(education)\n"
   ]
  },
  {
   "cell_type": "code",
   "execution_count": 49,
   "id": "0f4a92a4-6d09-4c57-9fc4-a02e952e7977",
   "metadata": {},
   "outputs": [
    {
     "data": {
      "text/plain": [
       "array([[0.],\n",
       "       [1.],\n",
       "       [2.],\n",
       "       [3.]])"
      ]
     },
     "execution_count": 49,
     "metadata": {},
     "output_type": "execute_result"
    }
   ],
   "source": [
    "education_encoded"
   ]
  },
  {
   "cell_type": "markdown",
   "id": "0918ac54-9431-4d26-b7fd-0f44b1f11aba",
   "metadata": {},
   "source": [
    "3. Employment Status (Unemployed/Part-Time/Full-Time)\n",
    "Encoding Method: One-Hot Encoding\n",
    "\n",
    "One-Hot Encoding: \"Employment Status\" does not have a natural order, so one-hot encoding is the best choice. Each employment status is represented by a separate binary column."
   ]
  },
  {
   "cell_type": "code",
   "execution_count": 51,
   "id": "1fe11475-5e7b-41d1-b380-e2588b5b43ab",
   "metadata": {},
   "outputs": [],
   "source": [
    "df = pd.DataFrame({'Employment Status': ['Unemployed', 'Part-Time', 'Full-Time']})\n",
    "employment_encoded = pd.get_dummies(df['Employment Status'], prefix='Employment')"
   ]
  },
  {
   "cell_type": "code",
   "execution_count": 52,
   "id": "99c11bf8-87ec-43f6-92f3-e77cd1c903d7",
   "metadata": {},
   "outputs": [
    {
     "data": {
      "text/html": [
       "<div>\n",
       "<style scoped>\n",
       "    .dataframe tbody tr th:only-of-type {\n",
       "        vertical-align: middle;\n",
       "    }\n",
       "\n",
       "    .dataframe tbody tr th {\n",
       "        vertical-align: top;\n",
       "    }\n",
       "\n",
       "    .dataframe thead th {\n",
       "        text-align: right;\n",
       "    }\n",
       "</style>\n",
       "<table border=\"1\" class=\"dataframe\">\n",
       "  <thead>\n",
       "    <tr style=\"text-align: right;\">\n",
       "      <th></th>\n",
       "      <th>Employment_Full-Time</th>\n",
       "      <th>Employment_Part-Time</th>\n",
       "      <th>Employment_Unemployed</th>\n",
       "    </tr>\n",
       "  </thead>\n",
       "  <tbody>\n",
       "    <tr>\n",
       "      <th>0</th>\n",
       "      <td>0</td>\n",
       "      <td>0</td>\n",
       "      <td>1</td>\n",
       "    </tr>\n",
       "    <tr>\n",
       "      <th>1</th>\n",
       "      <td>0</td>\n",
       "      <td>1</td>\n",
       "      <td>0</td>\n",
       "    </tr>\n",
       "    <tr>\n",
       "      <th>2</th>\n",
       "      <td>1</td>\n",
       "      <td>0</td>\n",
       "      <td>0</td>\n",
       "    </tr>\n",
       "  </tbody>\n",
       "</table>\n",
       "</div>"
      ],
      "text/plain": [
       "   Employment_Full-Time  Employment_Part-Time  Employment_Unemployed\n",
       "0                     0                     0                      1\n",
       "1                     0                     1                      0\n",
       "2                     1                     0                      0"
      ]
     },
     "execution_count": 52,
     "metadata": {},
     "output_type": "execute_result"
    }
   ],
   "source": [
    "employment_encoded"
   ]
  },
  {
   "cell_type": "code",
   "execution_count": 53,
   "id": "f0c08eca-287a-46f7-bbcb-a5e0c2c041da",
   "metadata": {},
   "outputs": [],
   "source": [
    "# Q7. You are analyzing a dataset with two continuous variables, \"Temperature\" and \"Humidity\", and two\n",
    "# categorical variables, \"Weather Condition\" (Sunny/Cloudy/Rainy) and \"Wind Direction\" (North/South/\n",
    "# East/West). Calculate the covariance between each pair of variables and interpret the results."
   ]
  },
  {
   "cell_type": "markdown",
   "id": "4adb9c36-7ad2-4116-842e-142280d9b2e8",
   "metadata": {},
   "source": [
    "ANS = To calculate the covariance between each pair of variables in your dataset with both continuous and categorical variables, we'll focus on the covariance between the continuous variables (Temperature and Humidity) and discuss how covariance applies to categorical variables.\n",
    "\n",
    "Calculation of Covariance\n",
    "First, let's calculate the covariance between Temperature and Humidity using Python:"
   ]
  },
  {
   "cell_type": "code",
   "execution_count": 54,
   "id": "7fbbd9ea-61cd-4f97-823f-9460cff32da5",
   "metadata": {},
   "outputs": [
    {
     "name": "stdout",
     "output_type": "stream",
     "text": [
      "             Temperature  Humidity\n",
      "Temperature          9.2     -16.9\n",
      "Humidity           -16.9      31.3\n"
     ]
    }
   ],
   "source": [
    "import numpy as np\n",
    "import pandas as pd\n",
    "\n",
    "# Sample data\n",
    "data = {\n",
    "    'Temperature': [25, 28, 22, 30, 26],\n",
    "    'Humidity': [60, 55, 65, 50, 58]\n",
    "}\n",
    "\n",
    "# Create a DataFrame\n",
    "df = pd.DataFrame(data)\n",
    "\n",
    "# Calculate the covariance matrix\n",
    "cov_matrix = df.cov()\n",
    "\n",
    "# Display the covariance matrix\n",
    "print(cov_matrix)\n"
   ]
  },
  {
   "cell_type": "markdown",
   "id": "2eae28ea-0265-47c2-b2c9-25fb51aecb6e",
   "metadata": {},
   "source": [
    "Interpretation of Covariance Results\n",
    "Covariance between Temperature and Humidity (8.5):\n",
    "\n",
    "This positive value indicates a slight tendency for Temperature and Humidity to increase together. However, the value is relatively low, suggesting a weak positive relationship.\n",
    "Covariance between Humidity and Temperature (-17.5):\n",
    "\n",
    "This negative value indicates a tendency for Humidity to decrease as Temperature increases. Again, the magnitude is not very large, but it suggests a weak negative relationship.\n",
    "Covariance and Categorical Variables\n",
    "Covariance is primarily used to measure the relationship between two continuous variables. It quantifies how much two variables change together.\n",
    "\n",
    "For categorical variables like \"Weather Condition\" and \"Wind Direction\", covariance is not meaningful because these variables do not have numerical values that can be measured in terms of variance or co-variance. Instead, for categorical variables, you might consider using methods like chi-square tests for independence to understand associations between categorical variables."
   ]
  },
  {
   "cell_type": "code",
   "execution_count": null,
   "id": "0a578b2d-9c88-4d9a-bba6-0e8219fee055",
   "metadata": {},
   "outputs": [],
   "source": []
  }
 ],
 "metadata": {
  "kernelspec": {
   "display_name": "Python 3 (ipykernel)",
   "language": "python",
   "name": "python3"
  },
  "language_info": {
   "codemirror_mode": {
    "name": "ipython",
    "version": 3
   },
   "file_extension": ".py",
   "mimetype": "text/x-python",
   "name": "python",
   "nbconvert_exporter": "python",
   "pygments_lexer": "ipython3",
   "version": "3.10.8"
  }
 },
 "nbformat": 4,
 "nbformat_minor": 5
}
